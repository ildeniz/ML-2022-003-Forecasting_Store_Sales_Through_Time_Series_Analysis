{
 "cells": [
  {
   "cell_type": "markdown",
   "id": "d8e79bea-c5c1-43a2-9e57-563f5e47cb15",
   "metadata": {},
   "source": [
    "# 0 - Abstract - Introduction"
   ]
  },
  {
   "cell_type": "markdown",
   "id": "b214e669-a094-47e1-8376-9d3d85fecd3c",
   "metadata": {},
   "source": [
    "The growth of supermarkets in most populated cities are increasing and market competitions are also high. The dataset is one of the historical sales of supermarket company which has recorded in 3 different branches for 3 months data. Predictive data analytics methods are easy to apply with this dataset.\n",
    "\n",
    "Attribute information\n",
    "\n",
    "- Invoice id: Computer generated sales slip invoice identification number\n",
    "- Branch: Branch of supercenter (3 branches are available identified by A, B and C).\n",
    "- City: Location of supercenters\n",
    "- Customer type: Type of customers, recorded by Members for customers using member card and Normal for without member card.\n",
    "- Gender: Gender type of customer\n",
    "- Product line: General item categorization groups - Electronic accessories, Fashion accessories, Food and beverages, Health and beauty, Home and lifestyle, Sports and travel\n",
    "- Unit price: Price of each product in $\n",
    "- Quantity: Number of products purchased by customer\n",
    "- Tax: 5 \\% tax fee for customer buying\n",
    "- Total: Total price including tax\n",
    "- Date: Date of purchase (Record available from January 2019 to March 2019)\n",
    "- Time: Purchase time (10am to 9pm)\n",
    "- Payment: Payment used by customer for purchase (3 methods are available – Cash, Credit card and Ewallet)\n",
    "- COGS: Cost of goods sold\n",
    "- Gross margin percentage: Gross margin percentage\n",
    "- Gross income: Gross income\n",
    "- Rating: Customer stratification rating on their overall shopping experience (On a scale of 1 to 10)\n",
    "\n",
    "The data set is obtained from [Kaggle](https://www.kaggle.com/datasets/aungpyaeap/supermarket-sales)"
   ]
  },
  {
   "cell_type": "markdown",
   "id": "573a42af-8c68-4b01-b398-344290959110",
   "metadata": {},
   "source": [
    "# 1 - Loading Libraries"
   ]
  },
  {
   "cell_type": "code",
   "execution_count": 3,
   "id": "00e9bdd8-4ad8-4cf9-95a1-0b8ab13bcee0",
   "metadata": {},
   "outputs": [
    {
     "name": "stdout",
     "output_type": "stream",
     "text": [
      "It is good to go, lift off chief.\n"
     ]
    }
   ],
   "source": [
    "import pandas as pd\n",
    "import numpy as np\n",
    "import datetime\n",
    "\n",
    "import seaborn as sns\n",
    "import matplotlib.pyplot as plt\n",
    "%matplotlib inline\n",
    "print(\"It is good to go, lift off chief.\")"
   ]
  },
  {
   "cell_type": "code",
   "execution_count": 4,
   "id": "ab2db73e-91ae-4db8-967d-72edc6a84be0",
   "metadata": {},
   "outputs": [
    {
     "data": {
      "text/html": [
       "<div>\n",
       "<style scoped>\n",
       "    .dataframe tbody tr th:only-of-type {\n",
       "        vertical-align: middle;\n",
       "    }\n",
       "\n",
       "    .dataframe tbody tr th {\n",
       "        vertical-align: top;\n",
       "    }\n",
       "\n",
       "    .dataframe thead th {\n",
       "        text-align: right;\n",
       "    }\n",
       "</style>\n",
       "<table border=\"1\" class=\"dataframe\">\n",
       "  <thead>\n",
       "    <tr style=\"text-align: right;\">\n",
       "      <th></th>\n",
       "      <th>Invoice ID</th>\n",
       "      <th>Branch</th>\n",
       "      <th>City</th>\n",
       "      <th>Customer type</th>\n",
       "      <th>Gender</th>\n",
       "      <th>Product line</th>\n",
       "      <th>Unit price</th>\n",
       "      <th>Quantity</th>\n",
       "      <th>Tax 5%</th>\n",
       "      <th>Total</th>\n",
       "      <th>Date</th>\n",
       "      <th>Time</th>\n",
       "      <th>Payment</th>\n",
       "      <th>cogs</th>\n",
       "      <th>gross margin percentage</th>\n",
       "      <th>gross income</th>\n",
       "      <th>Rating</th>\n",
       "    </tr>\n",
       "  </thead>\n",
       "  <tbody>\n",
       "    <tr>\n",
       "      <th>0</th>\n",
       "      <td>750-67-8428</td>\n",
       "      <td>A</td>\n",
       "      <td>Yangon</td>\n",
       "      <td>Member</td>\n",
       "      <td>Female</td>\n",
       "      <td>Health and beauty</td>\n",
       "      <td>74.69</td>\n",
       "      <td>7</td>\n",
       "      <td>26.1415</td>\n",
       "      <td>548.9715</td>\n",
       "      <td>1/5/2019</td>\n",
       "      <td>13:08</td>\n",
       "      <td>Ewallet</td>\n",
       "      <td>522.83</td>\n",
       "      <td>4.761905</td>\n",
       "      <td>26.1415</td>\n",
       "      <td>9.1</td>\n",
       "    </tr>\n",
       "    <tr>\n",
       "      <th>1</th>\n",
       "      <td>226-31-3081</td>\n",
       "      <td>C</td>\n",
       "      <td>Naypyitaw</td>\n",
       "      <td>Normal</td>\n",
       "      <td>Female</td>\n",
       "      <td>Electronic accessories</td>\n",
       "      <td>15.28</td>\n",
       "      <td>5</td>\n",
       "      <td>3.8200</td>\n",
       "      <td>80.2200</td>\n",
       "      <td>3/8/2019</td>\n",
       "      <td>10:29</td>\n",
       "      <td>Cash</td>\n",
       "      <td>76.40</td>\n",
       "      <td>4.761905</td>\n",
       "      <td>3.8200</td>\n",
       "      <td>9.6</td>\n",
       "    </tr>\n",
       "    <tr>\n",
       "      <th>2</th>\n",
       "      <td>631-41-3108</td>\n",
       "      <td>A</td>\n",
       "      <td>Yangon</td>\n",
       "      <td>Normal</td>\n",
       "      <td>Male</td>\n",
       "      <td>Home and lifestyle</td>\n",
       "      <td>46.33</td>\n",
       "      <td>7</td>\n",
       "      <td>16.2155</td>\n",
       "      <td>340.5255</td>\n",
       "      <td>3/3/2019</td>\n",
       "      <td>13:23</td>\n",
       "      <td>Credit card</td>\n",
       "      <td>324.31</td>\n",
       "      <td>4.761905</td>\n",
       "      <td>16.2155</td>\n",
       "      <td>7.4</td>\n",
       "    </tr>\n",
       "    <tr>\n",
       "      <th>3</th>\n",
       "      <td>123-19-1176</td>\n",
       "      <td>A</td>\n",
       "      <td>Yangon</td>\n",
       "      <td>Member</td>\n",
       "      <td>Male</td>\n",
       "      <td>Health and beauty</td>\n",
       "      <td>58.22</td>\n",
       "      <td>8</td>\n",
       "      <td>23.2880</td>\n",
       "      <td>489.0480</td>\n",
       "      <td>1/27/2019</td>\n",
       "      <td>20:33</td>\n",
       "      <td>Ewallet</td>\n",
       "      <td>465.76</td>\n",
       "      <td>4.761905</td>\n",
       "      <td>23.2880</td>\n",
       "      <td>8.4</td>\n",
       "    </tr>\n",
       "    <tr>\n",
       "      <th>4</th>\n",
       "      <td>373-73-7910</td>\n",
       "      <td>A</td>\n",
       "      <td>Yangon</td>\n",
       "      <td>Normal</td>\n",
       "      <td>Male</td>\n",
       "      <td>Sports and travel</td>\n",
       "      <td>86.31</td>\n",
       "      <td>7</td>\n",
       "      <td>30.2085</td>\n",
       "      <td>634.3785</td>\n",
       "      <td>2/8/2019</td>\n",
       "      <td>10:37</td>\n",
       "      <td>Ewallet</td>\n",
       "      <td>604.17</td>\n",
       "      <td>4.761905</td>\n",
       "      <td>30.2085</td>\n",
       "      <td>5.3</td>\n",
       "    </tr>\n",
       "  </tbody>\n",
       "</table>\n",
       "</div>"
      ],
      "text/plain": [
       "    Invoice ID Branch       City Customer type  Gender  \\\n",
       "0  750-67-8428      A     Yangon        Member  Female   \n",
       "1  226-31-3081      C  Naypyitaw        Normal  Female   \n",
       "2  631-41-3108      A     Yangon        Normal    Male   \n",
       "3  123-19-1176      A     Yangon        Member    Male   \n",
       "4  373-73-7910      A     Yangon        Normal    Male   \n",
       "\n",
       "             Product line  Unit price  Quantity   Tax 5%     Total       Date  \\\n",
       "0       Health and beauty       74.69         7  26.1415  548.9715   1/5/2019   \n",
       "1  Electronic accessories       15.28         5   3.8200   80.2200   3/8/2019   \n",
       "2      Home and lifestyle       46.33         7  16.2155  340.5255   3/3/2019   \n",
       "3       Health and beauty       58.22         8  23.2880  489.0480  1/27/2019   \n",
       "4       Sports and travel       86.31         7  30.2085  634.3785   2/8/2019   \n",
       "\n",
       "    Time      Payment    cogs  gross margin percentage  gross income  Rating  \n",
       "0  13:08      Ewallet  522.83                 4.761905       26.1415     9.1  \n",
       "1  10:29         Cash   76.40                 4.761905        3.8200     9.6  \n",
       "2  13:23  Credit card  324.31                 4.761905       16.2155     7.4  \n",
       "3  20:33      Ewallet  465.76                 4.761905       23.2880     8.4  \n",
       "4  10:37      Ewallet  604.17                 4.761905       30.2085     5.3  "
      ]
     },
     "execution_count": 4,
     "metadata": {},
     "output_type": "execute_result"
    }
   ],
   "source": [
    "_sales = pd.read_csv('Data\\supermarket_sales.csv')\n",
    "_sales.head()"
   ]
  },
  {
   "cell_type": "code",
   "execution_count": 89,
   "id": "5f233ef0-4093-46de-aaca-2544af726260",
   "metadata": {},
   "outputs": [
    {
     "name": "stdout",
     "output_type": "stream",
     "text": [
      "<class 'pandas.core.frame.DataFrame'>\n",
      "RangeIndex: 1000 entries, 0 to 999\n",
      "Data columns (total 17 columns):\n",
      " #   Column                   Non-Null Count  Dtype  \n",
      "---  ------                   --------------  -----  \n",
      " 0   Invoice ID               1000 non-null   object \n",
      " 1   Branch                   1000 non-null   object \n",
      " 2   City                     1000 non-null   object \n",
      " 3   Customer type            1000 non-null   object \n",
      " 4   Gender                   1000 non-null   object \n",
      " 5   Product line             1000 non-null   object \n",
      " 6   Unit price               1000 non-null   float64\n",
      " 7   Quantity                 1000 non-null   int64  \n",
      " 8   Tax 5%                   1000 non-null   float64\n",
      " 9   Total                    1000 non-null   float64\n",
      " 10  Date                     1000 non-null   object \n",
      " 11  Time                     1000 non-null   object \n",
      " 12  Payment                  1000 non-null   object \n",
      " 13  cogs                     1000 non-null   float64\n",
      " 14  gross margin percentage  1000 non-null   float64\n",
      " 15  gross income             1000 non-null   float64\n",
      " 16  Rating                   1000 non-null   float64\n",
      "dtypes: float64(7), int64(1), object(9)\n",
      "memory usage: 132.9+ KB\n"
     ]
    }
   ],
   "source": [
    "_sales.info()"
   ]
  },
  {
   "cell_type": "code",
   "execution_count": 11,
   "id": "f9f0c31e-4641-4f37-8b79-70b608b6a682",
   "metadata": {},
   "outputs": [],
   "source": [
    "col_names = _sales.columns.to_frame()"
   ]
  },
  {
   "cell_type": "code",
   "execution_count": 30,
   "id": "2bb091a9-56c8-414c-a218-767da99f738a",
   "metadata": {},
   "outputs": [],
   "source": [
    "# for name in col_names[0]:\n",
    "#     print(_sales[name].value_counts().to_frame()) #.unique())"
   ]
  },
  {
   "cell_type": "code",
   "execution_count": 95,
   "id": "41bbc150-84ce-4eae-9b27-f6e7c22b1054",
   "metadata": {},
   "outputs": [
    {
     "data": {
      "text/plain": [
       "array([4.76190476])"
      ]
     },
     "execution_count": 95,
     "metadata": {},
     "output_type": "execute_result"
    }
   ],
   "source": [
    "_sales['gross margin percentage'].unique()"
   ]
  },
  {
   "cell_type": "code",
   "execution_count": 98,
   "id": "9b9d960e-32c9-4eae-9e01-d7c69475b8da",
   "metadata": {},
   "outputs": [
    {
     "data": {
      "text/plain": [
       "array(['Yangon', 'Naypyitaw', 'Mandalay'], dtype=object)"
      ]
     },
     "execution_count": 98,
     "metadata": {},
     "output_type": "execute_result"
    }
   ],
   "source": [
    "_sales['City'].unique()"
   ]
  },
  {
   "cell_type": "code",
   "execution_count": 5,
   "id": "1289cd2f-3464-481f-8164-c349e516b7aa",
   "metadata": {},
   "outputs": [
    {
     "data": {
      "text/plain": [
       "count         1000\n",
       "unique          89\n",
       "top       2/7/2019\n",
       "freq            20\n",
       "Name: Date, dtype: object"
      ]
     },
     "execution_count": 5,
     "metadata": {},
     "output_type": "execute_result"
    }
   ],
   "source": [
    "_sales['Date'].describe()"
   ]
  },
  {
   "cell_type": "code",
   "execution_count": 81,
   "id": "51d5cf90-86f9-4d92-9e68-06f240ff840c",
   "metadata": {},
   "outputs": [
    {
     "data": {
      "text/plain": [
       "2/7/2019     20\n",
       "2/15/2019    19\n",
       "3/14/2019    18\n",
       "3/2/2019     18\n",
       "1/8/2019     18\n",
       "             ..\n",
       "1/4/2019      6\n",
       "2/28/2019     6\n",
       "2/21/2019     6\n",
       "3/17/2019     6\n",
       "2/1/2019      6\n",
       "Name: Date, Length: 89, dtype: int64"
      ]
     },
     "execution_count": 81,
     "metadata": {},
     "output_type": "execute_result"
    }
   ],
   "source": [
    "_sales['Date'].value_counts()"
   ]
  },
  {
   "cell_type": "markdown",
   "id": "2a97c057-724c-41a5-8fff-7382926b3983",
   "metadata": {},
   "source": [
    "there are purchases at least 6 times in a single day"
   ]
  },
  {
   "cell_type": "code",
   "execution_count": 88,
   "id": "9bb0328d-c46b-4103-8d7b-1b1273d9bfc6",
   "metadata": {},
   "outputs": [
    {
     "data": {
      "text/plain": [
       "1000"
      ]
     },
     "execution_count": 88,
     "metadata": {},
     "output_type": "execute_result"
    }
   ],
   "source": [
    "_sales['Invoice ID'].value_counts().sum()"
   ]
  },
  {
   "cell_type": "markdown",
   "id": "e7bfe83b-67b9-4efb-9c9c-8919352c71f5",
   "metadata": {},
   "source": [
    "Each invoice in 1000 invoices is unique, still there is a porbability that multiple invoices belong to a single customer. for example if `'Branch'` = `'Customer type'` = `'Gender'` = `'Payment'` this might be the same customer."
   ]
  },
  {
   "cell_type": "markdown",
   "id": "3839ddc0-e610-4c28-a040-e0a6e4ba2a1c",
   "metadata": {},
   "source": [
    "### Question \n",
    "how to filter data frame for example to check only `'Sports and travel'`"
   ]
  },
  {
   "cell_type": "code",
   "execution_count": null,
   "id": "17a104ea-b1e8-48c6-b7a9-3a92a45e23af",
   "metadata": {},
   "outputs": [],
   "source": []
  },
  {
   "cell_type": "markdown",
   "id": "612bb94e-785e-4853-8c48-edbab1200714",
   "metadata": {},
   "source": [
    "# 2 - Data Cleaning"
   ]
  },
  {
   "cell_type": "markdown",
   "id": "592b141f-0aa0-48aa-8dcf-87ef3f150493",
   "metadata": {},
   "source": [
    "## 2.1 - Converting data type of `'Date'` column to `datetime`\n"
   ]
  },
  {
   "cell_type": "code",
   "execution_count": 58,
   "id": "33325e25-82e7-43f4-9a89-5027bba221eb",
   "metadata": {},
   "outputs": [
    {
     "data": {
      "text/plain": [
       "0     1/5/2019\n",
       "1     3/8/2019\n",
       "2     3/3/2019\n",
       "3    1/27/2019\n",
       "4     2/8/2019\n",
       "Name: Date, dtype: object"
      ]
     },
     "execution_count": 58,
     "metadata": {},
     "output_type": "execute_result"
    }
   ],
   "source": [
    "_sales['Date'].head()"
   ]
  },
  {
   "cell_type": "markdown",
   "id": "27aa9b70-3c42-435e-a8cb-17f8a75eb3bc",
   "metadata": {},
   "source": [
    "Because the dtype of `'Data'` column is `object` rather than `datetime64`, Python doesn't know that this column contains dates. It is better to convert `'Date'` column from `object` to `datetime64`."
   ]
  },
  {
   "cell_type": "markdown",
   "id": "077ebbc1-7a92-4ee5-abd8-e426d229d7cc",
   "metadata": {},
   "source": [
    "It is possible to parse date format manually."
   ]
  },
  {
   "cell_type": "code",
   "execution_count": 34,
   "id": "07e77793-1fbb-423d-95f8-feb3939b6e48",
   "metadata": {},
   "outputs": [],
   "source": [
    "# sales['date_parsed'] = pd.to_datetime(sales['Date'], format=\"%m/%d/%y\")\n",
    "# sales['date_parsed'].head()"
   ]
  },
  {
   "cell_type": "markdown",
   "id": "b1a52a58-34c3-4f45-b450-7d2f2dda0d17",
   "metadata": {},
   "source": [
    "But this code returns an error for the current data set (it worths to work on this issue later):\n",
    "\n",
    "'*ValueError: unconverted data remains: 19*'"
   ]
  },
  {
   "cell_type": "markdown",
   "id": "99589617-c5ab-4454-ad7f-fad1e3b564ab",
   "metadata": {},
   "source": [
    "Alternative way to format dates is letting `pandas` to guess the date format by using `infer_datetime_format=True` argument.\\\n",
    "This approach allows pandas to try to infer what the right date format should be."
   ]
  },
  {
   "cell_type": "markdown",
   "id": "f4832d8b-b717-4d22-94d1-744ad1ba5f85",
   "metadata": {},
   "source": [
    "1- It is either creating a new column:"
   ]
  },
  {
   "cell_type": "code",
   "execution_count": 56,
   "id": "add1e943-58f4-434a-ba37-c31d6019f597",
   "metadata": {},
   "outputs": [
    {
     "data": {
      "text/plain": [
       "0   2019-01-05\n",
       "1   2019-03-08\n",
       "2   2019-03-03\n",
       "3   2019-01-27\n",
       "4   2019-02-08\n",
       "Name: date_parsed, dtype: datetime64[ns]"
      ]
     },
     "execution_count": 56,
     "metadata": {},
     "output_type": "execute_result"
    }
   ],
   "source": [
    "sales = pd.read_csv('Data\\supermarket_sales.csv')\n",
    "\n",
    "sales['date_parsed'] = pd.to_datetime(sales['Date'], infer_datetime_format=True)\n",
    "sales['date_parsed'].head()"
   ]
  },
  {
   "cell_type": "markdown",
   "id": "20b9cf6e-ab9f-482f-a305-26d2c2553e1c",
   "metadata": {},
   "source": [
    "2- Or alter the column that contains the time data during reading the data from the desired source."
   ]
  },
  {
   "cell_type": "code",
   "execution_count": 126,
   "id": "a285a306-96e2-46a4-91ed-78a544a4a1a8",
   "metadata": {
    "tags": []
   },
   "outputs": [
    {
     "data": {
      "text/plain": [
       "0   2019-01-05\n",
       "1   2019-03-08\n",
       "2   2019-03-03\n",
       "3   2019-01-27\n",
       "4   2019-02-08\n",
       "Name: Date, dtype: datetime64[ns]"
      ]
     },
     "execution_count": 126,
     "metadata": {},
     "output_type": "execute_result"
    }
   ],
   "source": [
    "sales = pd.read_csv('Data\\supermarket_sales.csv', \n",
    "                    parse_dates=['Date'],\n",
    "                    infer_datetime_format=True)\n",
    "sales['Date'].head()"
   ]
  },
  {
   "cell_type": "code",
   "execution_count": 60,
   "id": "416be8c4-5d77-437f-a29c-3b74d9c800eb",
   "metadata": {},
   "outputs": [
    {
     "name": "stdout",
     "output_type": "stream",
     "text": [
      "datetime64[ns]\n"
     ]
    }
   ],
   "source": [
    "print(sales.Date.dtype)"
   ]
  },
  {
   "cell_type": "markdown",
   "id": "7682b90c-a75d-4d08-b502-207c5c9c4dc7",
   "metadata": {},
   "source": [
    "Though it is possible to set `'Date'` column as `index` while reading the data by using `index_col=<column name>` argument, a better approach would be using `set_index(<column name>)` function to be able to benefit from `to_period()` function to observe the data in desired periods. The periods and arguments are; **D**ay, **W**eek, **M**onth, **Q**uarter, and **Y**ear."
   ]
  },
  {
   "cell_type": "code",
   "execution_count": 127,
   "id": "9f299a18-66f4-463f-807b-77192d9e5365",
   "metadata": {},
   "outputs": [
    {
     "data": {
      "text/html": [
       "<div>\n",
       "<style scoped>\n",
       "    .dataframe tbody tr th:only-of-type {\n",
       "        vertical-align: middle;\n",
       "    }\n",
       "\n",
       "    .dataframe tbody tr th {\n",
       "        vertical-align: top;\n",
       "    }\n",
       "\n",
       "    .dataframe thead th {\n",
       "        text-align: right;\n",
       "    }\n",
       "</style>\n",
       "<table border=\"1\" class=\"dataframe\">\n",
       "  <thead>\n",
       "    <tr style=\"text-align: right;\">\n",
       "      <th></th>\n",
       "      <th>Invoice ID</th>\n",
       "      <th>Branch</th>\n",
       "      <th>City</th>\n",
       "      <th>Customer type</th>\n",
       "      <th>Gender</th>\n",
       "      <th>Product line</th>\n",
       "      <th>Unit price</th>\n",
       "      <th>Quantity</th>\n",
       "      <th>Tax 5%</th>\n",
       "      <th>Total</th>\n",
       "      <th>Time</th>\n",
       "      <th>Payment</th>\n",
       "      <th>cogs</th>\n",
       "      <th>gross margin percentage</th>\n",
       "      <th>gross income</th>\n",
       "      <th>Rating</th>\n",
       "    </tr>\n",
       "    <tr>\n",
       "      <th>Date</th>\n",
       "      <th></th>\n",
       "      <th></th>\n",
       "      <th></th>\n",
       "      <th></th>\n",
       "      <th></th>\n",
       "      <th></th>\n",
       "      <th></th>\n",
       "      <th></th>\n",
       "      <th></th>\n",
       "      <th></th>\n",
       "      <th></th>\n",
       "      <th></th>\n",
       "      <th></th>\n",
       "      <th></th>\n",
       "      <th></th>\n",
       "      <th></th>\n",
       "    </tr>\n",
       "  </thead>\n",
       "  <tbody>\n",
       "    <tr>\n",
       "      <th>2019-01-05</th>\n",
       "      <td>750-67-8428</td>\n",
       "      <td>A</td>\n",
       "      <td>Yangon</td>\n",
       "      <td>Member</td>\n",
       "      <td>Female</td>\n",
       "      <td>Health and beauty</td>\n",
       "      <td>74.69</td>\n",
       "      <td>7</td>\n",
       "      <td>26.1415</td>\n",
       "      <td>548.9715</td>\n",
       "      <td>13:08</td>\n",
       "      <td>Ewallet</td>\n",
       "      <td>522.83</td>\n",
       "      <td>4.761905</td>\n",
       "      <td>26.1415</td>\n",
       "      <td>9.1</td>\n",
       "    </tr>\n",
       "    <tr>\n",
       "      <th>2019-03-08</th>\n",
       "      <td>226-31-3081</td>\n",
       "      <td>C</td>\n",
       "      <td>Naypyitaw</td>\n",
       "      <td>Normal</td>\n",
       "      <td>Female</td>\n",
       "      <td>Electronic accessories</td>\n",
       "      <td>15.28</td>\n",
       "      <td>5</td>\n",
       "      <td>3.8200</td>\n",
       "      <td>80.2200</td>\n",
       "      <td>10:29</td>\n",
       "      <td>Cash</td>\n",
       "      <td>76.40</td>\n",
       "      <td>4.761905</td>\n",
       "      <td>3.8200</td>\n",
       "      <td>9.6</td>\n",
       "    </tr>\n",
       "    <tr>\n",
       "      <th>2019-03-03</th>\n",
       "      <td>631-41-3108</td>\n",
       "      <td>A</td>\n",
       "      <td>Yangon</td>\n",
       "      <td>Normal</td>\n",
       "      <td>Male</td>\n",
       "      <td>Home and lifestyle</td>\n",
       "      <td>46.33</td>\n",
       "      <td>7</td>\n",
       "      <td>16.2155</td>\n",
       "      <td>340.5255</td>\n",
       "      <td>13:23</td>\n",
       "      <td>Credit card</td>\n",
       "      <td>324.31</td>\n",
       "      <td>4.761905</td>\n",
       "      <td>16.2155</td>\n",
       "      <td>7.4</td>\n",
       "    </tr>\n",
       "    <tr>\n",
       "      <th>2019-01-27</th>\n",
       "      <td>123-19-1176</td>\n",
       "      <td>A</td>\n",
       "      <td>Yangon</td>\n",
       "      <td>Member</td>\n",
       "      <td>Male</td>\n",
       "      <td>Health and beauty</td>\n",
       "      <td>58.22</td>\n",
       "      <td>8</td>\n",
       "      <td>23.2880</td>\n",
       "      <td>489.0480</td>\n",
       "      <td>20:33</td>\n",
       "      <td>Ewallet</td>\n",
       "      <td>465.76</td>\n",
       "      <td>4.761905</td>\n",
       "      <td>23.2880</td>\n",
       "      <td>8.4</td>\n",
       "    </tr>\n",
       "    <tr>\n",
       "      <th>2019-02-08</th>\n",
       "      <td>373-73-7910</td>\n",
       "      <td>A</td>\n",
       "      <td>Yangon</td>\n",
       "      <td>Normal</td>\n",
       "      <td>Male</td>\n",
       "      <td>Sports and travel</td>\n",
       "      <td>86.31</td>\n",
       "      <td>7</td>\n",
       "      <td>30.2085</td>\n",
       "      <td>634.3785</td>\n",
       "      <td>10:37</td>\n",
       "      <td>Ewallet</td>\n",
       "      <td>604.17</td>\n",
       "      <td>4.761905</td>\n",
       "      <td>30.2085</td>\n",
       "      <td>5.3</td>\n",
       "    </tr>\n",
       "  </tbody>\n",
       "</table>\n",
       "</div>"
      ],
      "text/plain": [
       "             Invoice ID Branch       City Customer type  Gender  \\\n",
       "Date                                                              \n",
       "2019-01-05  750-67-8428      A     Yangon        Member  Female   \n",
       "2019-03-08  226-31-3081      C  Naypyitaw        Normal  Female   \n",
       "2019-03-03  631-41-3108      A     Yangon        Normal    Male   \n",
       "2019-01-27  123-19-1176      A     Yangon        Member    Male   \n",
       "2019-02-08  373-73-7910      A     Yangon        Normal    Male   \n",
       "\n",
       "                      Product line  Unit price  Quantity   Tax 5%     Total  \\\n",
       "Date                                                                          \n",
       "2019-01-05       Health and beauty       74.69         7  26.1415  548.9715   \n",
       "2019-03-08  Electronic accessories       15.28         5   3.8200   80.2200   \n",
       "2019-03-03      Home and lifestyle       46.33         7  16.2155  340.5255   \n",
       "2019-01-27       Health and beauty       58.22         8  23.2880  489.0480   \n",
       "2019-02-08       Sports and travel       86.31         7  30.2085  634.3785   \n",
       "\n",
       "             Time      Payment    cogs  gross margin percentage  gross income  \\\n",
       "Date                                                                            \n",
       "2019-01-05  13:08      Ewallet  522.83                 4.761905       26.1415   \n",
       "2019-03-08  10:29         Cash   76.40                 4.761905        3.8200   \n",
       "2019-03-03  13:23  Credit card  324.31                 4.761905       16.2155   \n",
       "2019-01-27  20:33      Ewallet  465.76                 4.761905       23.2880   \n",
       "2019-02-08  10:37      Ewallet  604.17                 4.761905       30.2085   \n",
       "\n",
       "            Rating  \n",
       "Date                \n",
       "2019-01-05     9.1  \n",
       "2019-03-08     9.6  \n",
       "2019-03-03     7.4  \n",
       "2019-01-27     8.4  \n",
       "2019-02-08     5.3  "
      ]
     },
     "execution_count": 127,
     "metadata": {},
     "output_type": "execute_result"
    }
   ],
   "source": [
    "sales = sales.set_index('Date').to_period('D')\n",
    "sales.head()"
   ]
  },
  {
   "cell_type": "markdown",
   "id": "215483e8-dad7-4846-8c6d-4dec1316fd9d",
   "metadata": {},
   "source": [
    "Why not observe the data through `'Branch'` and `'Product line'` breakdown respectively."
   ]
  },
  {
   "cell_type": "code",
   "execution_count": null,
   "id": "2e550617-167c-417f-90d0-f55390ca41fa",
   "metadata": {},
   "outputs": [],
   "source": [
    "sales = sales.set_index(['Branch', 'Product line'], append=True)\n",
    "sales = sales.sort_index()"
   ]
  },
  {
   "cell_type": "code",
   "execution_count": 132,
   "id": "df5e816f-1a77-437f-a6e6-01db75ac2387",
   "metadata": {},
   "outputs": [
    {
     "data": {
      "text/html": [
       "<div>\n",
       "<style scoped>\n",
       "    .dataframe tbody tr th:only-of-type {\n",
       "        vertical-align: middle;\n",
       "    }\n",
       "\n",
       "    .dataframe tbody tr th {\n",
       "        vertical-align: top;\n",
       "    }\n",
       "\n",
       "    .dataframe thead th {\n",
       "        text-align: right;\n",
       "    }\n",
       "</style>\n",
       "<table border=\"1\" class=\"dataframe\">\n",
       "  <thead>\n",
       "    <tr style=\"text-align: right;\">\n",
       "      <th></th>\n",
       "      <th></th>\n",
       "      <th></th>\n",
       "      <th>Invoice ID</th>\n",
       "      <th>City</th>\n",
       "      <th>Customer type</th>\n",
       "      <th>Gender</th>\n",
       "      <th>Unit price</th>\n",
       "      <th>Quantity</th>\n",
       "      <th>Tax 5%</th>\n",
       "      <th>Total</th>\n",
       "      <th>Time</th>\n",
       "      <th>Payment</th>\n",
       "      <th>cogs</th>\n",
       "      <th>gross margin percentage</th>\n",
       "      <th>gross income</th>\n",
       "      <th>Rating</th>\n",
       "    </tr>\n",
       "    <tr>\n",
       "      <th>Date</th>\n",
       "      <th>Branch</th>\n",
       "      <th>Product line</th>\n",
       "      <th></th>\n",
       "      <th></th>\n",
       "      <th></th>\n",
       "      <th></th>\n",
       "      <th></th>\n",
       "      <th></th>\n",
       "      <th></th>\n",
       "      <th></th>\n",
       "      <th></th>\n",
       "      <th></th>\n",
       "      <th></th>\n",
       "      <th></th>\n",
       "      <th></th>\n",
       "      <th></th>\n",
       "    </tr>\n",
       "  </thead>\n",
       "  <tbody>\n",
       "    <tr>\n",
       "      <th rowspan=\"11\" valign=\"top\">2019-03-30</th>\n",
       "      <th rowspan=\"4\" valign=\"top\">A</th>\n",
       "      <th>Electronic accessories</th>\n",
       "      <td>676-39-6028</td>\n",
       "      <td>Yangon</td>\n",
       "      <td>Member</td>\n",
       "      <td>Female</td>\n",
       "      <td>64.44</td>\n",
       "      <td>5</td>\n",
       "      <td>16.1100</td>\n",
       "      <td>338.3100</td>\n",
       "      <td>17:04</td>\n",
       "      <td>Cash</td>\n",
       "      <td>322.20</td>\n",
       "      <td>4.761905</td>\n",
       "      <td>16.1100</td>\n",
       "      <td>6.6</td>\n",
       "    </tr>\n",
       "    <tr>\n",
       "      <th>Home and lifestyle</th>\n",
       "      <td>291-55-6563</td>\n",
       "      <td>Yangon</td>\n",
       "      <td>Member</td>\n",
       "      <td>Female</td>\n",
       "      <td>34.42</td>\n",
       "      <td>6</td>\n",
       "      <td>10.3260</td>\n",
       "      <td>216.8460</td>\n",
       "      <td>12:45</td>\n",
       "      <td>Ewallet</td>\n",
       "      <td>206.52</td>\n",
       "      <td>4.761905</td>\n",
       "      <td>10.3260</td>\n",
       "      <td>7.5</td>\n",
       "    </tr>\n",
       "    <tr>\n",
       "      <th>Sports and travel</th>\n",
       "      <td>286-01-5402</td>\n",
       "      <td>Yangon</td>\n",
       "      <td>Normal</td>\n",
       "      <td>Female</td>\n",
       "      <td>40.23</td>\n",
       "      <td>7</td>\n",
       "      <td>14.0805</td>\n",
       "      <td>295.6905</td>\n",
       "      <td>13:22</td>\n",
       "      <td>Cash</td>\n",
       "      <td>281.61</td>\n",
       "      <td>4.761905</td>\n",
       "      <td>14.0805</td>\n",
       "      <td>9.6</td>\n",
       "    </tr>\n",
       "    <tr>\n",
       "      <th>Sports and travel</th>\n",
       "      <td>361-85-2571</td>\n",
       "      <td>Yangon</td>\n",
       "      <td>Normal</td>\n",
       "      <td>Female</td>\n",
       "      <td>89.48</td>\n",
       "      <td>5</td>\n",
       "      <td>22.3700</td>\n",
       "      <td>469.7700</td>\n",
       "      <td>10:18</td>\n",
       "      <td>Cash</td>\n",
       "      <td>447.40</td>\n",
       "      <td>4.761905</td>\n",
       "      <td>22.3700</td>\n",
       "      <td>7.4</td>\n",
       "    </tr>\n",
       "    <tr>\n",
       "      <th rowspan=\"3\" valign=\"top\">B</th>\n",
       "      <th>Food and beverages</th>\n",
       "      <td>642-61-4706</td>\n",
       "      <td>Mandalay</td>\n",
       "      <td>Member</td>\n",
       "      <td>Male</td>\n",
       "      <td>93.40</td>\n",
       "      <td>2</td>\n",
       "      <td>9.3400</td>\n",
       "      <td>196.1400</td>\n",
       "      <td>16:34</td>\n",
       "      <td>Cash</td>\n",
       "      <td>186.80</td>\n",
       "      <td>4.761905</td>\n",
       "      <td>9.3400</td>\n",
       "      <td>5.5</td>\n",
       "    </tr>\n",
       "    <tr>\n",
       "      <th>Health and beauty</th>\n",
       "      <td>743-04-1105</td>\n",
       "      <td>Mandalay</td>\n",
       "      <td>Member</td>\n",
       "      <td>Male</td>\n",
       "      <td>97.22</td>\n",
       "      <td>9</td>\n",
       "      <td>43.7490</td>\n",
       "      <td>918.7290</td>\n",
       "      <td>14:43</td>\n",
       "      <td>Ewallet</td>\n",
       "      <td>874.98</td>\n",
       "      <td>4.761905</td>\n",
       "      <td>43.7490</td>\n",
       "      <td>6.0</td>\n",
       "    </tr>\n",
       "    <tr>\n",
       "      <th>Health and beauty</th>\n",
       "      <td>731-59-7531</td>\n",
       "      <td>Mandalay</td>\n",
       "      <td>Member</td>\n",
       "      <td>Male</td>\n",
       "      <td>72.57</td>\n",
       "      <td>8</td>\n",
       "      <td>29.0280</td>\n",
       "      <td>609.5880</td>\n",
       "      <td>17:58</td>\n",
       "      <td>Cash</td>\n",
       "      <td>580.56</td>\n",
       "      <td>4.761905</td>\n",
       "      <td>29.0280</td>\n",
       "      <td>4.6</td>\n",
       "    </tr>\n",
       "    <tr>\n",
       "      <th rowspan=\"4\" valign=\"top\">C</th>\n",
       "      <th>Electronic accessories</th>\n",
       "      <td>364-34-2972</td>\n",
       "      <td>Naypyitaw</td>\n",
       "      <td>Member</td>\n",
       "      <td>Male</td>\n",
       "      <td>96.82</td>\n",
       "      <td>3</td>\n",
       "      <td>14.5230</td>\n",
       "      <td>304.9830</td>\n",
       "      <td>20:37</td>\n",
       "      <td>Cash</td>\n",
       "      <td>290.46</td>\n",
       "      <td>4.761905</td>\n",
       "      <td>14.5230</td>\n",
       "      <td>6.7</td>\n",
       "    </tr>\n",
       "    <tr>\n",
       "      <th>Fashion accessories</th>\n",
       "      <td>115-38-7388</td>\n",
       "      <td>Naypyitaw</td>\n",
       "      <td>Member</td>\n",
       "      <td>Female</td>\n",
       "      <td>10.18</td>\n",
       "      <td>8</td>\n",
       "      <td>4.0720</td>\n",
       "      <td>85.5120</td>\n",
       "      <td>12:51</td>\n",
       "      <td>Credit card</td>\n",
       "      <td>81.44</td>\n",
       "      <td>4.761905</td>\n",
       "      <td>4.0720</td>\n",
       "      <td>9.5</td>\n",
       "    </tr>\n",
       "    <tr>\n",
       "      <th>Food and beverages</th>\n",
       "      <td>131-15-8856</td>\n",
       "      <td>Naypyitaw</td>\n",
       "      <td>Member</td>\n",
       "      <td>Female</td>\n",
       "      <td>72.52</td>\n",
       "      <td>8</td>\n",
       "      <td>29.0080</td>\n",
       "      <td>609.1680</td>\n",
       "      <td>19:26</td>\n",
       "      <td>Credit card</td>\n",
       "      <td>580.16</td>\n",
       "      <td>4.761905</td>\n",
       "      <td>29.0080</td>\n",
       "      <td>4.0</td>\n",
       "    </tr>\n",
       "    <tr>\n",
       "      <th>Health and beauty</th>\n",
       "      <td>778-89-7974</td>\n",
       "      <td>Naypyitaw</td>\n",
       "      <td>Normal</td>\n",
       "      <td>Male</td>\n",
       "      <td>70.21</td>\n",
       "      <td>6</td>\n",
       "      <td>21.0630</td>\n",
       "      <td>442.3230</td>\n",
       "      <td>14:58</td>\n",
       "      <td>Cash</td>\n",
       "      <td>421.26</td>\n",
       "      <td>4.761905</td>\n",
       "      <td>21.0630</td>\n",
       "      <td>7.4</td>\n",
       "    </tr>\n",
       "  </tbody>\n",
       "</table>\n",
       "</div>"
      ],
      "text/plain": [
       "                                           Invoice ID       City  \\\n",
       "Date       Branch Product line                                     \n",
       "2019-03-30 A      Electronic accessories  676-39-6028     Yangon   \n",
       "                  Home and lifestyle      291-55-6563     Yangon   \n",
       "                  Sports and travel       286-01-5402     Yangon   \n",
       "                  Sports and travel       361-85-2571     Yangon   \n",
       "           B      Food and beverages      642-61-4706   Mandalay   \n",
       "                  Health and beauty       743-04-1105   Mandalay   \n",
       "                  Health and beauty       731-59-7531   Mandalay   \n",
       "           C      Electronic accessories  364-34-2972  Naypyitaw   \n",
       "                  Fashion accessories     115-38-7388  Naypyitaw   \n",
       "                  Food and beverages      131-15-8856  Naypyitaw   \n",
       "                  Health and beauty       778-89-7974  Naypyitaw   \n",
       "\n",
       "                                         Customer type  Gender  Unit price  \\\n",
       "Date       Branch Product line                                               \n",
       "2019-03-30 A      Electronic accessories        Member  Female       64.44   \n",
       "                  Home and lifestyle            Member  Female       34.42   \n",
       "                  Sports and travel             Normal  Female       40.23   \n",
       "                  Sports and travel             Normal  Female       89.48   \n",
       "           B      Food and beverages            Member    Male       93.40   \n",
       "                  Health and beauty             Member    Male       97.22   \n",
       "                  Health and beauty             Member    Male       72.57   \n",
       "           C      Electronic accessories        Member    Male       96.82   \n",
       "                  Fashion accessories           Member  Female       10.18   \n",
       "                  Food and beverages            Member  Female       72.52   \n",
       "                  Health and beauty             Normal    Male       70.21   \n",
       "\n",
       "                                          Quantity   Tax 5%     Total   Time  \\\n",
       "Date       Branch Product line                                                 \n",
       "2019-03-30 A      Electronic accessories         5  16.1100  338.3100  17:04   \n",
       "                  Home and lifestyle             6  10.3260  216.8460  12:45   \n",
       "                  Sports and travel              7  14.0805  295.6905  13:22   \n",
       "                  Sports and travel              5  22.3700  469.7700  10:18   \n",
       "           B      Food and beverages             2   9.3400  196.1400  16:34   \n",
       "                  Health and beauty              9  43.7490  918.7290  14:43   \n",
       "                  Health and beauty              8  29.0280  609.5880  17:58   \n",
       "           C      Electronic accessories         3  14.5230  304.9830  20:37   \n",
       "                  Fashion accessories            8   4.0720   85.5120  12:51   \n",
       "                  Food and beverages             8  29.0080  609.1680  19:26   \n",
       "                  Health and beauty              6  21.0630  442.3230  14:58   \n",
       "\n",
       "                                              Payment    cogs  \\\n",
       "Date       Branch Product line                                  \n",
       "2019-03-30 A      Electronic accessories         Cash  322.20   \n",
       "                  Home and lifestyle          Ewallet  206.52   \n",
       "                  Sports and travel              Cash  281.61   \n",
       "                  Sports and travel              Cash  447.40   \n",
       "           B      Food and beverages             Cash  186.80   \n",
       "                  Health and beauty           Ewallet  874.98   \n",
       "                  Health and beauty              Cash  580.56   \n",
       "           C      Electronic accessories         Cash  290.46   \n",
       "                  Fashion accessories     Credit card   81.44   \n",
       "                  Food and beverages      Credit card  580.16   \n",
       "                  Health and beauty              Cash  421.26   \n",
       "\n",
       "                                          gross margin percentage  \\\n",
       "Date       Branch Product line                                      \n",
       "2019-03-30 A      Electronic accessories                 4.761905   \n",
       "                  Home and lifestyle                     4.761905   \n",
       "                  Sports and travel                      4.761905   \n",
       "                  Sports and travel                      4.761905   \n",
       "           B      Food and beverages                     4.761905   \n",
       "                  Health and beauty                      4.761905   \n",
       "                  Health and beauty                      4.761905   \n",
       "           C      Electronic accessories                 4.761905   \n",
       "                  Fashion accessories                    4.761905   \n",
       "                  Food and beverages                     4.761905   \n",
       "                  Health and beauty                      4.761905   \n",
       "\n",
       "                                          gross income  Rating  \n",
       "Date       Branch Product line                                  \n",
       "2019-03-30 A      Electronic accessories       16.1100     6.6  \n",
       "                  Home and lifestyle           10.3260     7.5  \n",
       "                  Sports and travel            14.0805     9.6  \n",
       "                  Sports and travel            22.3700     7.4  \n",
       "           B      Food and beverages            9.3400     5.5  \n",
       "                  Health and beauty            43.7490     6.0  \n",
       "                  Health and beauty            29.0280     4.6  \n",
       "           C      Electronic accessories       14.5230     6.7  \n",
       "                  Fashion accessories           4.0720     9.5  \n",
       "                  Food and beverages           29.0080     4.0  \n",
       "                  Health and beauty            21.0630     7.4  "
      ]
     },
     "execution_count": 132,
     "metadata": {},
     "output_type": "execute_result"
    }
   ],
   "source": [
    "sales.tail(11)"
   ]
  },
  {
   "cell_type": "code",
   "execution_count": 141,
   "id": "b52e083a-f6a2-4dfa-a6ae-5c57802ad37c",
   "metadata": {},
   "outputs": [
    {
     "data": {
      "text/html": [
       "<div>\n",
       "<style scoped>\n",
       "    .dataframe tbody tr th:only-of-type {\n",
       "        vertical-align: middle;\n",
       "    }\n",
       "\n",
       "    .dataframe tbody tr th {\n",
       "        vertical-align: top;\n",
       "    }\n",
       "\n",
       "    .dataframe thead th {\n",
       "        text-align: right;\n",
       "    }\n",
       "</style>\n",
       "<table border=\"1\" class=\"dataframe\">\n",
       "  <thead>\n",
       "    <tr style=\"text-align: right;\">\n",
       "      <th></th>\n",
       "      <th>Total</th>\n",
       "      <th>time</th>\n",
       "    </tr>\n",
       "    <tr>\n",
       "      <th>Date</th>\n",
       "      <th></th>\n",
       "      <th></th>\n",
       "    </tr>\n",
       "  </thead>\n",
       "  <tbody>\n",
       "    <tr>\n",
       "      <th>2019-01-01</th>\n",
       "      <td>4745.1810</td>\n",
       "      <td>0</td>\n",
       "    </tr>\n",
       "    <tr>\n",
       "      <th>2019-01-02</th>\n",
       "      <td>1945.5030</td>\n",
       "      <td>1</td>\n",
       "    </tr>\n",
       "    <tr>\n",
       "      <th>2019-01-03</th>\n",
       "      <td>2078.1285</td>\n",
       "      <td>2</td>\n",
       "    </tr>\n",
       "    <tr>\n",
       "      <th>2019-01-04</th>\n",
       "      <td>1623.6885</td>\n",
       "      <td>3</td>\n",
       "    </tr>\n",
       "    <tr>\n",
       "      <th>2019-01-05</th>\n",
       "      <td>3536.6835</td>\n",
       "      <td>4</td>\n",
       "    </tr>\n",
       "  </tbody>\n",
       "</table>\n",
       "</div>"
      ],
      "text/plain": [
       "                Total  time\n",
       "Date                       \n",
       "2019-01-01  4745.1810     0\n",
       "2019-01-02  1945.5030     1\n",
       "2019-01-03  2078.1285     2\n",
       "2019-01-04  1623.6885     3\n",
       "2019-01-05  3536.6835     4"
      ]
     },
     "execution_count": 141,
     "metadata": {},
     "output_type": "execute_result"
    }
   ],
   "source": [
    "total_sales = sales.groupby('Date').sum()['Total'].to_frame()\n",
    "\n",
    "time = np.arange(len(total_sales.index))\n",
    "total_sales['time'] = time\n",
    "\n",
    "total_sales.head()"
   ]
  },
  {
   "cell_type": "code",
   "execution_count": 167,
   "id": "c666ceb2-12e8-432f-8a1a-1634d1713bad",
   "metadata": {},
   "outputs": [
    {
     "data": {
      "image/png": "[encoded data removed]",
      "text/plain": [
       "<Figure size 792x288 with 1 Axes>"
      ]
     },
     "metadata": {
      "image/png": {
       "height": 280,
       "width": 784
      }
     },
     "output_type": "display_data"
    }
   ],
   "source": [
    "sns.set_style('darkgrid')\n",
    "plt.figure(figsize=(11,4))\n",
    "plt.title(\"Time Plot of Total Sales\")\n",
    "\n",
    "sns.regplot(data = total_sales, x='time', y='Total', ci=None, line_kws=dict(color='0.25'));"
   ]
  },
  {
   "cell_type": "code",
   "execution_count": 163,
   "id": "9f9d0878-c744-4c4c-9798-1b6184d4ca52",
   "metadata": {},
   "outputs": [
    {
     "data": {
      "image/png": "[encoded data removed]",
      "text/plain": [
       "<Figure size 792x288 with 1 Axes>"
      ]
     },
     "metadata": {
      "image/png": {
       "height": 280,
       "width": 784
      }
     },
     "output_type": "display_data"
    }
   ],
   "source": [
    "# Set Matplotlib defaults\n",
    "plt.style.use(\"seaborn-whitegrid\")\n",
    "plt.rc(\n",
    "    \"figure\",\n",
    "    autolayout=True,\n",
    "    figsize=(11, 4),\n",
    "    titlesize=18,\n",
    "    titleweight='bold',\n",
    ")\n",
    "plt.rc(\n",
    "    \"axes\",\n",
    "    labelweight=\"bold\",\n",
    "    labelsize=\"large\",\n",
    "    titleweight=\"bold\",\n",
    "    titlesize=16,\n",
    "    titlepad=10,\n",
    ")\n",
    "%config InlineBackend.figure_format = 'retina'\n",
    "\n",
    "fig, ax = plt.subplots()\n",
    "ax.plot('time', 'Total', data=total_sales, color='0.75')\n",
    "ax = sns.regplot(x='time', y='Total', data=total_sales, ci=None, scatter_kws=dict(color='0.25'))\n",
    "ax.set_title('Time Plot of Total Sales');"
   ]
  },
  {
   "cell_type": "code",
   "execution_count": 55,
   "id": "70dd6918-75d6-4190-a721-8126c6045307",
   "metadata": {},
   "outputs": [
    {
     "data": {
      "text/plain": [
       "'Sports and travel'"
      ]
     },
     "execution_count": 55,
     "metadata": {},
     "output_type": "execute_result"
    }
   ],
   "source": [
    "prod_line = sales['Product line'].unique()\n",
    "prod_line[3]"
   ]
  },
  {
   "cell_type": "code",
   "execution_count": null,
   "id": "ebc25624-4616-4270-8f73-bbbdc9677509",
   "metadata": {},
   "outputs": [],
   "source": []
  },
  {
   "cell_type": "markdown",
   "id": "421930bd-cbee-415f-a868-fa20abef8bd3",
   "metadata": {},
   "source": [
    "# 3 - Feature Engineering"
   ]
  },
  {
   "cell_type": "code",
   "execution_count": null,
   "id": "3bc2cc4a-168b-4b10-a92a-610238fb23c9",
   "metadata": {},
   "outputs": [],
   "source": []
  },
  {
   "cell_type": "markdown",
   "id": "1856b5a8-2874-4622-9faf-22075c97bd34",
   "metadata": {},
   "source": [
    "## 3.1 - Target/One-Hot Encoding"
   ]
  },
  {
   "cell_type": "code",
   "execution_count": null,
   "id": "43f0a9b2-438d-4ba7-830e-f52b0a3bacb5",
   "metadata": {},
   "outputs": [],
   "source": []
  },
  {
   "cell_type": "markdown",
   "id": "0fac5b9b-cdbd-414b-96b5-809a7a4a3555",
   "metadata": {},
   "source": [
    "## 3.2 - Introducing `'Time'` dummy as a `time-step feature`."
   ]
  },
  {
   "cell_type": "code",
   "execution_count": 59,
   "id": "d02dafb6-a217-4ed5-9186-fa1f3bf7e2cb",
   "metadata": {},
   "outputs": [
    {
     "data": {
      "text/html": [
       "<div>\n",
       "<style scoped>\n",
       "    .dataframe tbody tr th:only-of-type {\n",
       "        vertical-align: middle;\n",
       "    }\n",
       "\n",
       "    .dataframe tbody tr th {\n",
       "        vertical-align: top;\n",
       "    }\n",
       "\n",
       "    .dataframe thead th {\n",
       "        text-align: right;\n",
       "    }\n",
       "</style>\n",
       "<table border=\"1\" class=\"dataframe\">\n",
       "  <thead>\n",
       "    <tr style=\"text-align: right;\">\n",
       "      <th></th>\n",
       "      <th>Invoice ID</th>\n",
       "      <th>Branch</th>\n",
       "      <th>City</th>\n",
       "      <th>Customer type</th>\n",
       "      <th>Gender</th>\n",
       "      <th>Product line</th>\n",
       "      <th>Unit price</th>\n",
       "      <th>Quantity</th>\n",
       "      <th>Tax 5%</th>\n",
       "      <th>Total</th>\n",
       "      <th>Date</th>\n",
       "      <th>Time</th>\n",
       "      <th>Payment</th>\n",
       "      <th>cogs</th>\n",
       "      <th>gross margin percentage</th>\n",
       "      <th>gross income</th>\n",
       "      <th>Rating</th>\n",
       "    </tr>\n",
       "  </thead>\n",
       "  <tbody>\n",
       "    <tr>\n",
       "      <th>0</th>\n",
       "      <td>750-67-8428</td>\n",
       "      <td>A</td>\n",
       "      <td>Yangon</td>\n",
       "      <td>Member</td>\n",
       "      <td>Female</td>\n",
       "      <td>Health and beauty</td>\n",
       "      <td>74.69</td>\n",
       "      <td>7</td>\n",
       "      <td>26.1415</td>\n",
       "      <td>548.9715</td>\n",
       "      <td>2019-01-05</td>\n",
       "      <td>0</td>\n",
       "      <td>Ewallet</td>\n",
       "      <td>522.83</td>\n",
       "      <td>4.761905</td>\n",
       "      <td>26.1415</td>\n",
       "      <td>9.1</td>\n",
       "    </tr>\n",
       "    <tr>\n",
       "      <th>1</th>\n",
       "      <td>226-31-3081</td>\n",
       "      <td>C</td>\n",
       "      <td>Naypyitaw</td>\n",
       "      <td>Normal</td>\n",
       "      <td>Female</td>\n",
       "      <td>Electronic accessories</td>\n",
       "      <td>15.28</td>\n",
       "      <td>5</td>\n",
       "      <td>3.8200</td>\n",
       "      <td>80.2200</td>\n",
       "      <td>2019-03-08</td>\n",
       "      <td>1</td>\n",
       "      <td>Cash</td>\n",
       "      <td>76.40</td>\n",
       "      <td>4.761905</td>\n",
       "      <td>3.8200</td>\n",
       "      <td>9.6</td>\n",
       "    </tr>\n",
       "    <tr>\n",
       "      <th>2</th>\n",
       "      <td>631-41-3108</td>\n",
       "      <td>A</td>\n",
       "      <td>Yangon</td>\n",
       "      <td>Normal</td>\n",
       "      <td>Male</td>\n",
       "      <td>Home and lifestyle</td>\n",
       "      <td>46.33</td>\n",
       "      <td>7</td>\n",
       "      <td>16.2155</td>\n",
       "      <td>340.5255</td>\n",
       "      <td>2019-03-03</td>\n",
       "      <td>2</td>\n",
       "      <td>Credit card</td>\n",
       "      <td>324.31</td>\n",
       "      <td>4.761905</td>\n",
       "      <td>16.2155</td>\n",
       "      <td>7.4</td>\n",
       "    </tr>\n",
       "    <tr>\n",
       "      <th>3</th>\n",
       "      <td>123-19-1176</td>\n",
       "      <td>A</td>\n",
       "      <td>Yangon</td>\n",
       "      <td>Member</td>\n",
       "      <td>Male</td>\n",
       "      <td>Health and beauty</td>\n",
       "      <td>58.22</td>\n",
       "      <td>8</td>\n",
       "      <td>23.2880</td>\n",
       "      <td>489.0480</td>\n",
       "      <td>2019-01-27</td>\n",
       "      <td>3</td>\n",
       "      <td>Ewallet</td>\n",
       "      <td>465.76</td>\n",
       "      <td>4.761905</td>\n",
       "      <td>23.2880</td>\n",
       "      <td>8.4</td>\n",
       "    </tr>\n",
       "    <tr>\n",
       "      <th>4</th>\n",
       "      <td>373-73-7910</td>\n",
       "      <td>A</td>\n",
       "      <td>Yangon</td>\n",
       "      <td>Normal</td>\n",
       "      <td>Male</td>\n",
       "      <td>Sports and travel</td>\n",
       "      <td>86.31</td>\n",
       "      <td>7</td>\n",
       "      <td>30.2085</td>\n",
       "      <td>634.3785</td>\n",
       "      <td>2019-02-08</td>\n",
       "      <td>4</td>\n",
       "      <td>Ewallet</td>\n",
       "      <td>604.17</td>\n",
       "      <td>4.761905</td>\n",
       "      <td>30.2085</td>\n",
       "      <td>5.3</td>\n",
       "    </tr>\n",
       "  </tbody>\n",
       "</table>\n",
       "</div>"
      ],
      "text/plain": [
       "    Invoice ID Branch       City Customer type  Gender  \\\n",
       "0  750-67-8428      A     Yangon        Member  Female   \n",
       "1  226-31-3081      C  Naypyitaw        Normal  Female   \n",
       "2  631-41-3108      A     Yangon        Normal    Male   \n",
       "3  123-19-1176      A     Yangon        Member    Male   \n",
       "4  373-73-7910      A     Yangon        Normal    Male   \n",
       "\n",
       "             Product line  Unit price  Quantity   Tax 5%     Total       Date  \\\n",
       "0       Health and beauty       74.69         7  26.1415  548.9715 2019-01-05   \n",
       "1  Electronic accessories       15.28         5   3.8200   80.2200 2019-03-08   \n",
       "2      Home and lifestyle       46.33         7  16.2155  340.5255 2019-03-03   \n",
       "3       Health and beauty       58.22         8  23.2880  489.0480 2019-01-27   \n",
       "4       Sports and travel       86.31         7  30.2085  634.3785 2019-02-08   \n",
       "\n",
       "   Time      Payment    cogs  gross margin percentage  gross income  Rating  \n",
       "0     0      Ewallet  522.83                 4.761905       26.1415     9.1  \n",
       "1     1         Cash   76.40                 4.761905        3.8200     9.6  \n",
       "2     2  Credit card  324.31                 4.761905       16.2155     7.4  \n",
       "3     3      Ewallet  465.76                 4.761905       23.2880     8.4  \n",
       "4     4      Ewallet  604.17                 4.761905       30.2085     5.3  "
      ]
     },
     "execution_count": 59,
     "metadata": {},
     "output_type": "execute_result"
    }
   ],
   "source": [
    "# sales['Time'] = np.arange(len(sales.index))\n",
    "\n",
    "# sales.head()"
   ]
  },
  {
   "cell_type": "markdown",
   "id": "d636a02c-1b76-4e76-a60f-b772a56175f6",
   "metadata": {},
   "source": [
    "## 3.2 - Introducing `'Lag_i'` dummy as a `lag feature`."
   ]
  },
  {
   "cell_type": "code",
   "execution_count": 71,
   "id": "8082233c-ecfe-46c8-8870-a08ccaaa036e",
   "metadata": {},
   "outputs": [],
   "source": [
    "# TARGET ENCODING FIRST!!!!!\n",
    "\n",
    "# sales['Lag_1'] = sales['cogs'].shift(1)\n",
    "# sales = sales.reindex(columns=['Product line', 'Lag_1'])\n",
    "\n",
    "# sales.head()"
   ]
  },
  {
   "cell_type": "code",
   "execution_count": null,
   "id": "f76b5115-74a7-44fd-84ed-e5e406b99835",
   "metadata": {},
   "outputs": [],
   "source": []
  }
 ],
 "metadata": {
  "kernelspec": {
   "display_name": "Python 3 (ipykernel)",
   "language": "python",
   "name": "python3"
  },
  "language_info": {
   "codemirror_mode": {
    "name": "ipython",
    "version": 3
   },
   "file_extension": ".py",
   "mimetype": "text/x-python",
   "name": "python",
   "nbconvert_exporter": "python",
   "pygments_lexer": "ipython3",
   "version": "3.9.7"
  }
 },
 "nbformat": 4,
 "nbformat_minor": 5
}
